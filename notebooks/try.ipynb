{
 "cells": [
  {
   "cell_type": "code",
   "execution_count": 4,
   "metadata": {},
   "outputs": [],
   "source": [
    "from functools import partial\n",
    "\n",
    "import numpy as np\n",
    "import torch\n",
    "from jaxtyping import Float\n",
    "from rich.pretty import pprint as pp\n",
    "from torch import nn\n",
    "\n",
    "ppe = partial(pp, expand_all=True)"
   ]
  },
  {
   "cell_type": "code",
   "execution_count": null,
   "metadata": {},
   "outputs": [],
   "source": [
    "class AttentionLayer(nn.Module):\n",
    "    def __init__(self, d_k: int, d: int, *, bias: bool = False):\n",
    "        \"\"\"\n",
    "        d - num of rows of X (X.size[1]) (len of observation space)\n",
    "        d_k - len of one embedding\n",
    "        \"\"\"\n",
    "        super().__init__()\n",
    "        self.W_q = nn.Parameter(torch.randn(d, d_k))\n",
    "        self.W_k = nn.Parameter(torch.randn(d, d_k))\n",
    "        self.W_v = nn.Parameter(torch.randn(d, d_k))\n",
    "\n",
    "        if bias:\n",
    "            self.b_q = nn.Parameter(torch.randn(d_k))\n",
    "            self.b_k = nn.Parameter(torch.randn(d_k))\n",
    "            self.b_v = nn.Parameter(torch.randn(d_k))\n",
    "        else:\n",
    "            self.register_parameter(\"b_q\", None)\n",
    "            self.register_parameter(\"b_k\", None)\n",
    "            self.register_parameter(\"b_v\", None)\n",
    "\n",
    "    def forward(self, G: Float[torch.Tensor, \"...\"], X: Float[torch.Tensor, \"...\"]):\n",
    "        Q = X @ self.W_q + self.b_q\n",
    "        K = X @ self.W_k + self.b_k\n",
    "        V = X @ self.W_v + self.b_v\n",
    "\n",
    "        scores = Q @ K.T\n",
    "        masked_scores = scores * G\n",
    "        A = torch.softmax(masked_scores, dim=1)\n",
    "        Z = A @ V  # New Node Embeddings\n",
    "        return Z\n"
   ]
  }
 ],
 "metadata": {
  "kernelspec": {
   "display_name": "Python 3",
   "language": "python",
   "name": "python3"
  },
  "language_info": {
   "codemirror_mode": {
    "name": "ipython",
    "version": 3
   },
   "file_extension": ".py",
   "mimetype": "text/x-python",
   "name": "python",
   "nbconvert_exporter": "python",
   "pygments_lexer": "ipython3",
   "version": "3.11.8"
  }
 },
 "nbformat": 4,
 "nbformat_minor": 2
}
