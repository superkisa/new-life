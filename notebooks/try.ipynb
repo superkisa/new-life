{
 "cells": [
  {
   "cell_type": "code",
   "execution_count": 4,
   "metadata": {},
   "outputs": [],
   "source": [
    "from functools import partial\n",
    "\n",
    "import numpy as np\n",
    "import torch\n",
    "from jaxtyping import Float\n",
    "from rich.pretty import pprint as pp\n",
    "from torch import nn\n",
    "\n",
    "ppe = partial(pp, expand_all=True)"
   ]
  },
  {
   "cell_type": "code",
   "execution_count": null,
   "metadata": {},
   "outputs": [],
   "source": [
    "class AttentionLayer(nn.Module):\n",
    "    def __init__(self, d_k: int, d: int, *, bias: bool = False):\n",
    "        \"\"\"\n",
    "        d - num of rows of X (X.size[1]) (len of observation space)\n",
    "        d_k - len of one embedding\n",
    "        \"\"\"\n",
    "        super().__init__()\n",
    "        self.W_q = nn.Parameter(torch.randn(d, d_k))\n",
    "        self.W_k = nn.Parameter(torch.randn(d, d_k))\n",
    "        self.W_v = nn.Parameter(torch.randn(d, d_k))\n",
    "\n",
    "        if bias:\n",
    "            self.b_q = nn.Parameter(torch.randn(d_k))\n",
    "            self.b_k = nn.Parameter(torch.randn(d_k))\n",
    "            self.b_v = nn.Parameter(torch.randn(d_k))\n",
    "        else:\n",
    "            self.register_parameter(\"b_q\", None)\n",
    "            self.register_parameter(\"b_k\", None)\n",
    "            self.register_parameter(\"b_v\", None)\n",
    "\n",
    "    def forward(self, G: Float[torch.Tensor, \"...\"], X: Float[torch.Tensor, \"...\"]):\n",
    "        Q = X @ self.W_q + self.b_q\n",
    "        K = X @ self.W_k + self.b_k\n",
    "        V = X @ self.W_v + self.b_v\n",
    "\n",
    "        scores = Q @ K.T\n",
    "        masked_scores = scores * G\n",
    "        A = torch.softmax(masked_scores, dim=1)\n",
    "        Z = A @ V  # New Node Embeddings\n",
    "        return Z\n"
   ]
  },
  {
   "cell_type": "code",
   "execution_count": 5,
   "metadata": {},
   "outputs": [],
   "source": [
    "from pathlib import Path\n",
    "\n",
    "import gymnasium as gym\n",
    "from libs.bert_sac.gymnasium_envs import AntLegsEnv\n"
   ]
  },
  {
   "cell_type": "code",
   "execution_count": 22,
   "metadata": {},
   "outputs": [],
   "source": [
    "xml_model_dir = Path(\"assets/mujoco/models/\").resolve()\n",
    "\n",
    "# env = gym.make(\"mujoco/AntLegs\", num_obs_shape=23)\n",
    "env = AntLegsEnv(xml_file=str(xml_model_dir / \"ant-4.xml\"), num_obs_shape=23)"
   ]
  },
  {
   "cell_type": "code",
   "execution_count": 23,
   "metadata": {},
   "outputs": [
    {
     "data": {
      "text/plain": [
       "(array([ 0.66193837,  0.99279757,  0.06918375,  0.04694113, -0.08580864,\n",
       "        -0.01303356,  0.06562912,  0.01811408,  0.08676466, -0.01431188,\n",
       "        -0.04472134,  0.05985482, -0.02576076, -0.16465954, -0.05354587,\n",
       "         0.17390433, -0.01276485, -0.03088796, -0.04587678,  0.01184972,\n",
       "        -0.11630884, -0.03189005, -0.12605349, -0.07652192, -0.02849198,\n",
       "         0.00916565, -0.0905689 ]),\n",
       " {})"
      ]
     },
     "execution_count": 23,
     "metadata": {},
     "output_type": "execute_result"
    }
   ],
   "source": [
    "env.reset()"
   ]
  },
  {
   "cell_type": "code",
   "execution_count": null,
   "metadata": {},
   "outputs": [],
   "source": []
  }
 ],
 "metadata": {
  "kernelspec": {
   "display_name": "Python 3",
   "language": "python",
   "name": "python3"
  },
  "language_info": {
   "codemirror_mode": {
    "name": "ipython",
    "version": 3
   },
   "file_extension": ".py",
   "mimetype": "text/x-python",
   "name": "python",
   "nbconvert_exporter": "python",
   "pygments_lexer": "ipython3",
   "version": "3.11.8"
  }
 },
 "nbformat": 4,
 "nbformat_minor": 2
}
