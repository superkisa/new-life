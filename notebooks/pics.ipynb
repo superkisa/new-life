{
 "cells": [
  {
   "cell_type": "code",
   "execution_count": 23,
   "metadata": {},
   "outputs": [],
   "source": [
    "from collections import defaultdict\n",
    "from functools import partial\n",
    "from pathlib import Path\n",
    "\n",
    "import numpy as np\n",
    "import pandas as pd\n",
    "from matplotlib import pyplot as plt\n",
    "from matplotlib.axes import Axes\n",
    "from rich.pretty import pprint as pp\n",
    "\n",
    "ppe = partial(pp, expand_all=True)\n"
   ]
  },
  {
   "cell_type": "code",
   "execution_count": 24,
   "metadata": {},
   "outputs": [],
   "source": [
    "csvs = list(Path(\"../../results\").resolve().glob(\"**/*.csv\"))"
   ]
  },
  {
   "cell_type": "code",
   "execution_count": 25,
   "metadata": {},
   "outputs": [],
   "source": [
    "dfs = defaultdict(dict)\n",
    "for csv_path in csvs:\n",
    "    # key = \".\".join(csv_path.parts[-2:]).replace(\" \", \"_\")\n",
    "    setup, run_name = csv_path.parts[-2:]\n",
    "    dfs[setup.replace(\" \", \"_\")][run_name] = pd.read_csv(csv_path)\n",
    "    # dfs[key] = pd.read_csv(csv_path)"
   ]
  },
  {
   "cell_type": "code",
   "execution_count": 26,
   "metadata": {},
   "outputs": [
    {
     "data": {
      "text/html": [
       "<pre style=\"white-space:pre;overflow-x:auto;line-height:normal;font-family:Menlo,'DejaVu Sans Mono',consolas,'Courier New',monospace\"><span style=\"font-weight: bold\">[</span>\n",
       "<span style=\"color: #7fbf7f; text-decoration-color: #7fbf7f\">│   </span><span style=\"color: #008000; text-decoration-color: #008000\">'Ant-v4__999__20240607-075604_charts_episodic_return_env-0.csv'</span>,\n",
       "<span style=\"color: #7fbf7f; text-decoration-color: #7fbf7f\">│   </span><span style=\"color: #008000; text-decoration-color: #008000\">'Ant-v4__999__20240607-075604_charts_episodic_return_env-1.csv'</span>,\n",
       "<span style=\"color: #7fbf7f; text-decoration-color: #7fbf7f\">│   </span><span style=\"color: #008000; text-decoration-color: #008000\">'Ant-v4__999__20240607-075604_charts_episodic_return_env-2.csv'</span>,\n",
       "<span style=\"color: #7fbf7f; text-decoration-color: #7fbf7f\">│   </span><span style=\"color: #008000; text-decoration-color: #008000\">'Ant-v4__999__20240607-075604_charts_episodic_return_env-3.csv'</span>\n",
       "<span style=\"font-weight: bold\">]</span>\n",
       "</pre>\n"
      ],
      "text/plain": [
       "\u001b[1m[\u001b[0m\n",
       "\u001b[2;32m│   \u001b[0m\u001b[32m'Ant-v4__999__20240607-075604_charts_episodic_return_env-0.csv'\u001b[0m,\n",
       "\u001b[2;32m│   \u001b[0m\u001b[32m'Ant-v4__999__20240607-075604_charts_episodic_return_env-1.csv'\u001b[0m,\n",
       "\u001b[2;32m│   \u001b[0m\u001b[32m'Ant-v4__999__20240607-075604_charts_episodic_return_env-2.csv'\u001b[0m,\n",
       "\u001b[2;32m│   \u001b[0m\u001b[32m'Ant-v4__999__20240607-075604_charts_episodic_return_env-3.csv'\u001b[0m\n",
       "\u001b[1m]\u001b[0m\n"
      ]
     },
     "metadata": {},
     "output_type": "display_data"
    }
   ],
   "source": [
    "ppe([*dfs[\"4_legs_0_SA_500k_steps\"].keys()])"
   ]
  },
  {
   "cell_type": "code",
   "execution_count": 27,
   "metadata": {},
   "outputs": [
    {
     "data": {
      "text/html": [
       "<div>\n",
       "<style scoped>\n",
       "    .dataframe tbody tr th:only-of-type {\n",
       "        vertical-align: middle;\n",
       "    }\n",
       "\n",
       "    .dataframe tbody tr th {\n",
       "        vertical-align: top;\n",
       "    }\n",
       "\n",
       "    .dataframe thead th {\n",
       "        text-align: right;\n",
       "    }\n",
       "</style>\n",
       "<table border=\"1\" class=\"dataframe\">\n",
       "  <thead>\n",
       "    <tr style=\"text-align: right;\">\n",
       "      <th></th>\n",
       "      <th>Wall time</th>\n",
       "      <th>Step</th>\n",
       "      <th>Value</th>\n",
       "    </tr>\n",
       "  </thead>\n",
       "  <tbody>\n",
       "    <tr>\n",
       "      <th>0</th>\n",
       "      <td>1.717736e+09</td>\n",
       "      <td>13</td>\n",
       "      <td>-11.716684</td>\n",
       "    </tr>\n",
       "    <tr>\n",
       "      <th>1</th>\n",
       "      <td>1.717736e+09</td>\n",
       "      <td>31</td>\n",
       "      <td>-13.627132</td>\n",
       "    </tr>\n",
       "    <tr>\n",
       "      <th>2</th>\n",
       "      <td>1.717736e+09</td>\n",
       "      <td>1031</td>\n",
       "      <td>-383.094360</td>\n",
       "    </tr>\n",
       "    <tr>\n",
       "      <th>3</th>\n",
       "      <td>1.717736e+09</td>\n",
       "      <td>1062</td>\n",
       "      <td>-4.662867</td>\n",
       "    </tr>\n",
       "    <tr>\n",
       "      <th>4</th>\n",
       "      <td>1.717736e+09</td>\n",
       "      <td>1151</td>\n",
       "      <td>-59.544853</td>\n",
       "    </tr>\n",
       "    <tr>\n",
       "      <th>...</th>\n",
       "      <td>...</td>\n",
       "      <td>...</td>\n",
       "      <td>...</td>\n",
       "    </tr>\n",
       "    <tr>\n",
       "      <th>636</th>\n",
       "      <td>1.717746e+09</td>\n",
       "      <td>497167</td>\n",
       "      <td>4437.287109</td>\n",
       "    </tr>\n",
       "    <tr>\n",
       "      <th>637</th>\n",
       "      <td>1.717746e+09</td>\n",
       "      <td>498167</td>\n",
       "      <td>5594.033691</td>\n",
       "    </tr>\n",
       "    <tr>\n",
       "      <th>638</th>\n",
       "      <td>1.717746e+09</td>\n",
       "      <td>498385</td>\n",
       "      <td>960.343689</td>\n",
       "    </tr>\n",
       "    <tr>\n",
       "      <th>639</th>\n",
       "      <td>1.717746e+09</td>\n",
       "      <td>498847</td>\n",
       "      <td>2430.994141</td>\n",
       "    </tr>\n",
       "    <tr>\n",
       "      <th>640</th>\n",
       "      <td>1.717747e+09</td>\n",
       "      <td>499847</td>\n",
       "      <td>5710.327637</td>\n",
       "    </tr>\n",
       "  </tbody>\n",
       "</table>\n",
       "<p>641 rows × 3 columns</p>\n",
       "</div>"
      ],
      "text/plain": [
       "        Wall time    Step        Value\n",
       "0    1.717736e+09      13   -11.716684\n",
       "1    1.717736e+09      31   -13.627132\n",
       "2    1.717736e+09    1031  -383.094360\n",
       "3    1.717736e+09    1062    -4.662867\n",
       "4    1.717736e+09    1151   -59.544853\n",
       "..            ...     ...          ...\n",
       "636  1.717746e+09  497167  4437.287109\n",
       "637  1.717746e+09  498167  5594.033691\n",
       "638  1.717746e+09  498385   960.343689\n",
       "639  1.717746e+09  498847  2430.994141\n",
       "640  1.717747e+09  499847  5710.327637\n",
       "\n",
       "[641 rows x 3 columns]"
      ]
     },
     "execution_count": 27,
     "metadata": {},
     "output_type": "execute_result"
    }
   ],
   "source": [
    "dfs[\"4_legs_0_SA_500k_steps\"][\"Ant-v4__999__20240607-075604_charts_episodic_return_env-1.csv\"]"
   ]
  },
  {
   "cell_type": "code",
   "execution_count": 28,
   "metadata": {},
   "outputs": [],
   "source": [
    "SA0 = dfs[\"4_legs_0_SA_500k_steps\"][\"Ant-v4__999__20240607-075604_charts_episodic_return_env-0.csv\"].merge(dfs[\"4_legs_0_SA_500k_steps\"][\"Ant-v4__999__20240607-075604_charts_episodic_return_env-1.csv\"], how='outer')\n",
    "SA0 = SA0.merge(dfs[\"4_legs_0_SA_500k_steps\"][\"Ant-v4__999__20240607-075604_charts_episodic_return_env-2.csv\"], how='outer')\n",
    "SA0 = SA0.merge(dfs[\"4_legs_0_SA_500k_steps\"][\"Ant-v4__999__20240607-075604_charts_episodic_return_env-3.csv\"], how='outer')"
   ]
  },
  {
   "cell_type": "code",
   "execution_count": 29,
   "metadata": {},
   "outputs": [
    {
     "data": {
      "text/html": [
       "<div>\n",
       "<style scoped>\n",
       "    .dataframe tbody tr th:only-of-type {\n",
       "        vertical-align: middle;\n",
       "    }\n",
       "\n",
       "    .dataframe tbody tr th {\n",
       "        vertical-align: top;\n",
       "    }\n",
       "\n",
       "    .dataframe thead th {\n",
       "        text-align: right;\n",
       "    }\n",
       "</style>\n",
       "<table border=\"1\" class=\"dataframe\">\n",
       "  <thead>\n",
       "    <tr style=\"text-align: right;\">\n",
       "      <th></th>\n",
       "      <th>Wall time</th>\n",
       "      <th>Step</th>\n",
       "      <th>Value</th>\n",
       "    </tr>\n",
       "  </thead>\n",
       "  <tbody>\n",
       "    <tr>\n",
       "      <th>0</th>\n",
       "      <td>1.717736e+09</td>\n",
       "      <td>13</td>\n",
       "      <td>-11.716684</td>\n",
       "    </tr>\n",
       "    <tr>\n",
       "      <th>1</th>\n",
       "      <td>1.717736e+09</td>\n",
       "      <td>31</td>\n",
       "      <td>-13.627132</td>\n",
       "    </tr>\n",
       "    <tr>\n",
       "      <th>2</th>\n",
       "      <td>1.717736e+09</td>\n",
       "      <td>61</td>\n",
       "      <td>-13.186014</td>\n",
       "    </tr>\n",
       "    <tr>\n",
       "      <th>3</th>\n",
       "      <td>1.717736e+09</td>\n",
       "      <td>94</td>\n",
       "      <td>-15.728502</td>\n",
       "    </tr>\n",
       "    <tr>\n",
       "      <th>4</th>\n",
       "      <td>1.717736e+09</td>\n",
       "      <td>116</td>\n",
       "      <td>-18.909285</td>\n",
       "    </tr>\n",
       "    <tr>\n",
       "      <th>...</th>\n",
       "      <td>...</td>\n",
       "      <td>...</td>\n",
       "      <td>...</td>\n",
       "    </tr>\n",
       "    <tr>\n",
       "      <th>2604</th>\n",
       "      <td>1.717746e+09</td>\n",
       "      <td>498991</td>\n",
       "      <td>3985.627930</td>\n",
       "    </tr>\n",
       "    <tr>\n",
       "      <th>2605</th>\n",
       "      <td>1.717746e+09</td>\n",
       "      <td>499094</td>\n",
       "      <td>3116.438232</td>\n",
       "    </tr>\n",
       "    <tr>\n",
       "      <th>2606</th>\n",
       "      <td>1.717747e+09</td>\n",
       "      <td>499730</td>\n",
       "      <td>5642.908691</td>\n",
       "    </tr>\n",
       "    <tr>\n",
       "      <th>2607</th>\n",
       "      <td>1.717747e+09</td>\n",
       "      <td>499847</td>\n",
       "      <td>5710.327637</td>\n",
       "    </tr>\n",
       "    <tr>\n",
       "      <th>2608</th>\n",
       "      <td>1.717747e+09</td>\n",
       "      <td>499887</td>\n",
       "      <td>4820.134766</td>\n",
       "    </tr>\n",
       "  </tbody>\n",
       "</table>\n",
       "<p>2609 rows × 3 columns</p>\n",
       "</div>"
      ],
      "text/plain": [
       "         Wall time    Step        Value\n",
       "0     1.717736e+09      13   -11.716684\n",
       "1     1.717736e+09      31   -13.627132\n",
       "2     1.717736e+09      61   -13.186014\n",
       "3     1.717736e+09      94   -15.728502\n",
       "4     1.717736e+09     116   -18.909285\n",
       "...            ...     ...          ...\n",
       "2604  1.717746e+09  498991  3985.627930\n",
       "2605  1.717746e+09  499094  3116.438232\n",
       "2606  1.717747e+09  499730  5642.908691\n",
       "2607  1.717747e+09  499847  5710.327637\n",
       "2608  1.717747e+09  499887  4820.134766\n",
       "\n",
       "[2609 rows x 3 columns]"
      ]
     },
     "execution_count": 29,
     "metadata": {},
     "output_type": "execute_result"
    }
   ],
   "source": [
    "SA0"
   ]
  },
  {
   "cell_type": "code",
   "execution_count": 30,
   "metadata": {},
   "outputs": [
    {
     "data": {
      "text/html": [
       "<pre style=\"white-space:pre;overflow-x:auto;line-height:normal;font-family:Menlo,'DejaVu Sans Mono',consolas,'Courier New',monospace\"><span style=\"font-weight: bold\">[</span>\n",
       "<span style=\"color: #7fbf7f; text-decoration-color: #7fbf7f\">│   </span><span style=\"color: #008000; text-decoration-color: #008000\">'Ant-v4__999__20240607-143409_charts_episodic_return_env-0.csv'</span>,\n",
       "<span style=\"color: #7fbf7f; text-decoration-color: #7fbf7f\">│   </span><span style=\"color: #008000; text-decoration-color: #008000\">'Ant-v4__999__20240607-143409_charts_episodic_return_env-1.csv'</span>,\n",
       "<span style=\"color: #7fbf7f; text-decoration-color: #7fbf7f\">│   </span><span style=\"color: #008000; text-decoration-color: #008000\">'Ant-v4__999__20240607-143409_charts_episodic_return_env-2.csv'</span>,\n",
       "<span style=\"color: #7fbf7f; text-decoration-color: #7fbf7f\">│   </span><span style=\"color: #008000; text-decoration-color: #008000\">'Ant-v4__999__20240607-143409_charts_episodic_return_env-3.csv'</span>\n",
       "<span style=\"font-weight: bold\">]</span>\n",
       "</pre>\n"
      ],
      "text/plain": [
       "\u001b[1m[\u001b[0m\n",
       "\u001b[2;32m│   \u001b[0m\u001b[32m'Ant-v4__999__20240607-143409_charts_episodic_return_env-0.csv'\u001b[0m,\n",
       "\u001b[2;32m│   \u001b[0m\u001b[32m'Ant-v4__999__20240607-143409_charts_episodic_return_env-1.csv'\u001b[0m,\n",
       "\u001b[2;32m│   \u001b[0m\u001b[32m'Ant-v4__999__20240607-143409_charts_episodic_return_env-2.csv'\u001b[0m,\n",
       "\u001b[2;32m│   \u001b[0m\u001b[32m'Ant-v4__999__20240607-143409_charts_episodic_return_env-3.csv'\u001b[0m\n",
       "\u001b[1m]\u001b[0m\n"
      ]
     },
     "metadata": {},
     "output_type": "display_data"
    }
   ],
   "source": [
    "ppe([*dfs[\"4_legs_1_SA_500k_steps\"].keys()])"
   ]
  },
  {
   "cell_type": "code",
   "execution_count": 31,
   "metadata": {},
   "outputs": [],
   "source": [
    "SA1 = dfs[\"4_legs_1_SA_500k_steps\"][\"Ant-v4__999__20240607-143409_charts_episodic_return_env-0.csv\"].merge(dfs[\"4_legs_1_SA_500k_steps\"][\"Ant-v4__999__20240607-143409_charts_episodic_return_env-1.csv\"], how='outer')\n",
    "SA1 = SA1.merge(dfs[\"4_legs_1_SA_500k_steps\"][\"Ant-v4__999__20240607-143409_charts_episodic_return_env-2.csv\"], how='outer')\n",
    "SA1 = SA1.merge(dfs[\"4_legs_1_SA_500k_steps\"][\"Ant-v4__999__20240607-143409_charts_episodic_return_env-3.csv\"], how='outer')"
   ]
  },
  {
   "cell_type": "code",
   "execution_count": 32,
   "metadata": {},
   "outputs": [
    {
     "data": {
      "text/html": [
       "<div>\n",
       "<style scoped>\n",
       "    .dataframe tbody tr th:only-of-type {\n",
       "        vertical-align: middle;\n",
       "    }\n",
       "\n",
       "    .dataframe tbody tr th {\n",
       "        vertical-align: top;\n",
       "    }\n",
       "\n",
       "    .dataframe thead th {\n",
       "        text-align: right;\n",
       "    }\n",
       "</style>\n",
       "<table border=\"1\" class=\"dataframe\">\n",
       "  <thead>\n",
       "    <tr style=\"text-align: right;\">\n",
       "      <th></th>\n",
       "      <th>Wall time</th>\n",
       "      <th>Step</th>\n",
       "      <th>Value</th>\n",
       "    </tr>\n",
       "  </thead>\n",
       "  <tbody>\n",
       "    <tr>\n",
       "      <th>0</th>\n",
       "      <td>1.717760e+09</td>\n",
       "      <td>13</td>\n",
       "      <td>-11.716684</td>\n",
       "    </tr>\n",
       "    <tr>\n",
       "      <th>1</th>\n",
       "      <td>1.717760e+09</td>\n",
       "      <td>31</td>\n",
       "      <td>-13.627132</td>\n",
       "    </tr>\n",
       "    <tr>\n",
       "      <th>2</th>\n",
       "      <td>1.717760e+09</td>\n",
       "      <td>61</td>\n",
       "      <td>-13.186014</td>\n",
       "    </tr>\n",
       "    <tr>\n",
       "      <th>3</th>\n",
       "      <td>1.717760e+09</td>\n",
       "      <td>94</td>\n",
       "      <td>-15.728502</td>\n",
       "    </tr>\n",
       "    <tr>\n",
       "      <th>4</th>\n",
       "      <td>1.717760e+09</td>\n",
       "      <td>116</td>\n",
       "      <td>-18.909285</td>\n",
       "    </tr>\n",
       "    <tr>\n",
       "      <th>...</th>\n",
       "      <td>...</td>\n",
       "      <td>...</td>\n",
       "      <td>...</td>\n",
       "    </tr>\n",
       "    <tr>\n",
       "      <th>2568</th>\n",
       "      <td>1.717771e+09</td>\n",
       "      <td>498834</td>\n",
       "      <td>5440.044922</td>\n",
       "    </tr>\n",
       "    <tr>\n",
       "      <th>2569</th>\n",
       "      <td>1.717771e+09</td>\n",
       "      <td>499643</td>\n",
       "      <td>5587.238770</td>\n",
       "    </tr>\n",
       "    <tr>\n",
       "      <th>2570</th>\n",
       "      <td>1.717771e+09</td>\n",
       "      <td>499708</td>\n",
       "      <td>5515.217773</td>\n",
       "    </tr>\n",
       "    <tr>\n",
       "      <th>2571</th>\n",
       "      <td>1.717771e+09</td>\n",
       "      <td>499779</td>\n",
       "      <td>5562.559082</td>\n",
       "    </tr>\n",
       "    <tr>\n",
       "      <th>2572</th>\n",
       "      <td>1.717771e+09</td>\n",
       "      <td>499834</td>\n",
       "      <td>5641.435059</td>\n",
       "    </tr>\n",
       "  </tbody>\n",
       "</table>\n",
       "<p>2573 rows × 3 columns</p>\n",
       "</div>"
      ],
      "text/plain": [
       "         Wall time    Step        Value\n",
       "0     1.717760e+09      13   -11.716684\n",
       "1     1.717760e+09      31   -13.627132\n",
       "2     1.717760e+09      61   -13.186014\n",
       "3     1.717760e+09      94   -15.728502\n",
       "4     1.717760e+09     116   -18.909285\n",
       "...            ...     ...          ...\n",
       "2568  1.717771e+09  498834  5440.044922\n",
       "2569  1.717771e+09  499643  5587.238770\n",
       "2570  1.717771e+09  499708  5515.217773\n",
       "2571  1.717771e+09  499779  5562.559082\n",
       "2572  1.717771e+09  499834  5641.435059\n",
       "\n",
       "[2573 rows x 3 columns]"
      ]
     },
     "execution_count": 32,
     "metadata": {},
     "output_type": "execute_result"
    }
   ],
   "source": [
    "SA1"
   ]
  },
  {
   "cell_type": "code",
   "execution_count": 33,
   "metadata": {},
   "outputs": [
    {
     "data": {
      "text/html": [
       "<pre style=\"white-space:pre;overflow-x:auto;line-height:normal;font-family:Menlo,'DejaVu Sans Mono',consolas,'Courier New',monospace\"><span style=\"font-weight: bold\">[</span>\n",
       "<span style=\"color: #7fbf7f; text-decoration-color: #7fbf7f\">│   </span><span style=\"color: #008000; text-decoration-color: #008000\">'Ant-v4__999__20240607-192921_charts_episodic_return_env-0.csv'</span>,\n",
       "<span style=\"color: #7fbf7f; text-decoration-color: #7fbf7f\">│   </span><span style=\"color: #008000; text-decoration-color: #008000\">'Ant-v4__999__20240607-192921_charts_episodic_return_env-1.csv'</span>,\n",
       "<span style=\"color: #7fbf7f; text-decoration-color: #7fbf7f\">│   </span><span style=\"color: #008000; text-decoration-color: #008000\">'Ant-v4__999__20240607-192921_charts_episodic_return_env-2.csv'</span>,\n",
       "<span style=\"color: #7fbf7f; text-decoration-color: #7fbf7f\">│   </span><span style=\"color: #008000; text-decoration-color: #008000\">'Ant-v4__999__20240607-192921_charts_episodic_return_env-3.csv'</span>\n",
       "<span style=\"font-weight: bold\">]</span>\n",
       "</pre>\n"
      ],
      "text/plain": [
       "\u001b[1m[\u001b[0m\n",
       "\u001b[2;32m│   \u001b[0m\u001b[32m'Ant-v4__999__20240607-192921_charts_episodic_return_env-0.csv'\u001b[0m,\n",
       "\u001b[2;32m│   \u001b[0m\u001b[32m'Ant-v4__999__20240607-192921_charts_episodic_return_env-1.csv'\u001b[0m,\n",
       "\u001b[2;32m│   \u001b[0m\u001b[32m'Ant-v4__999__20240607-192921_charts_episodic_return_env-2.csv'\u001b[0m,\n",
       "\u001b[2;32m│   \u001b[0m\u001b[32m'Ant-v4__999__20240607-192921_charts_episodic_return_env-3.csv'\u001b[0m\n",
       "\u001b[1m]\u001b[0m\n"
      ]
     },
     "metadata": {},
     "output_type": "display_data"
    }
   ],
   "source": [
    "ppe([*dfs[\"4_legs_2_SA_500k_steps\"].keys()])"
   ]
  },
  {
   "cell_type": "code",
   "execution_count": 34,
   "metadata": {},
   "outputs": [],
   "source": [
    "SA2 = dfs[\"4_legs_2_SA_500k_steps\"][\"Ant-v4__999__20240607-192921_charts_episodic_return_env-0.csv\"].merge(dfs[\"4_legs_2_SA_500k_steps\"][\"Ant-v4__999__20240607-192921_charts_episodic_return_env-1.csv\"], how='outer')\n",
    "SA2 = SA2.merge(dfs[\"4_legs_2_SA_500k_steps\"][\"Ant-v4__999__20240607-192921_charts_episodic_return_env-2.csv\"], how='outer')\n",
    "SA2 = SA2.merge(dfs[\"4_legs_2_SA_500k_steps\"][\"Ant-v4__999__20240607-192921_charts_episodic_return_env-3.csv\"], how='outer')"
   ]
  },
  {
   "cell_type": "code",
   "execution_count": 35,
   "metadata": {},
   "outputs": [
    {
     "data": {
      "text/html": [
       "<div>\n",
       "<style scoped>\n",
       "    .dataframe tbody tr th:only-of-type {\n",
       "        vertical-align: middle;\n",
       "    }\n",
       "\n",
       "    .dataframe tbody tr th {\n",
       "        vertical-align: top;\n",
       "    }\n",
       "\n",
       "    .dataframe thead th {\n",
       "        text-align: right;\n",
       "    }\n",
       "</style>\n",
       "<table border=\"1\" class=\"dataframe\">\n",
       "  <thead>\n",
       "    <tr style=\"text-align: right;\">\n",
       "      <th></th>\n",
       "      <th>Wall time</th>\n",
       "      <th>Step</th>\n",
       "      <th>Value</th>\n",
       "    </tr>\n",
       "  </thead>\n",
       "  <tbody>\n",
       "    <tr>\n",
       "      <th>0</th>\n",
       "      <td>1.717778e+09</td>\n",
       "      <td>13</td>\n",
       "      <td>-11.716684</td>\n",
       "    </tr>\n",
       "    <tr>\n",
       "      <th>1</th>\n",
       "      <td>1.717778e+09</td>\n",
       "      <td>31</td>\n",
       "      <td>-13.627132</td>\n",
       "    </tr>\n",
       "    <tr>\n",
       "      <th>2</th>\n",
       "      <td>1.717778e+09</td>\n",
       "      <td>61</td>\n",
       "      <td>-13.186014</td>\n",
       "    </tr>\n",
       "    <tr>\n",
       "      <th>3</th>\n",
       "      <td>1.717778e+09</td>\n",
       "      <td>94</td>\n",
       "      <td>-15.728502</td>\n",
       "    </tr>\n",
       "    <tr>\n",
       "      <th>4</th>\n",
       "      <td>1.717778e+09</td>\n",
       "      <td>116</td>\n",
       "      <td>-18.909285</td>\n",
       "    </tr>\n",
       "    <tr>\n",
       "      <th>...</th>\n",
       "      <td>...</td>\n",
       "      <td>...</td>\n",
       "      <td>...</td>\n",
       "    </tr>\n",
       "    <tr>\n",
       "      <th>2622</th>\n",
       "      <td>1.717789e+09</td>\n",
       "      <td>498778</td>\n",
       "      <td>5382.514160</td>\n",
       "    </tr>\n",
       "    <tr>\n",
       "      <th>2623</th>\n",
       "      <td>1.717789e+09</td>\n",
       "      <td>499244</td>\n",
       "      <td>5623.976562</td>\n",
       "    </tr>\n",
       "    <tr>\n",
       "      <th>2624</th>\n",
       "      <td>1.717789e+09</td>\n",
       "      <td>499402</td>\n",
       "      <td>5317.702148</td>\n",
       "    </tr>\n",
       "    <tr>\n",
       "      <th>2625</th>\n",
       "      <td>1.717789e+09</td>\n",
       "      <td>499761</td>\n",
       "      <td>5459.488770</td>\n",
       "    </tr>\n",
       "    <tr>\n",
       "      <th>2626</th>\n",
       "      <td>1.717789e+09</td>\n",
       "      <td>499778</td>\n",
       "      <td>5398.705078</td>\n",
       "    </tr>\n",
       "  </tbody>\n",
       "</table>\n",
       "<p>2627 rows × 3 columns</p>\n",
       "</div>"
      ],
      "text/plain": [
       "         Wall time    Step        Value\n",
       "0     1.717778e+09      13   -11.716684\n",
       "1     1.717778e+09      31   -13.627132\n",
       "2     1.717778e+09      61   -13.186014\n",
       "3     1.717778e+09      94   -15.728502\n",
       "4     1.717778e+09     116   -18.909285\n",
       "...            ...     ...          ...\n",
       "2622  1.717789e+09  498778  5382.514160\n",
       "2623  1.717789e+09  499244  5623.976562\n",
       "2624  1.717789e+09  499402  5317.702148\n",
       "2625  1.717789e+09  499761  5459.488770\n",
       "2626  1.717789e+09  499778  5398.705078\n",
       "\n",
       "[2627 rows x 3 columns]"
      ]
     },
     "execution_count": 35,
     "metadata": {},
     "output_type": "execute_result"
    }
   ],
   "source": [
    "SA2"
   ]
  },
  {
   "cell_type": "code",
   "execution_count": 36,
   "metadata": {},
   "outputs": [
    {
     "data": {
      "text/html": [
       "<pre style=\"white-space:pre;overflow-x:auto;line-height:normal;font-family:Menlo,'DejaVu Sans Mono',consolas,'Courier New',monospace\"><span style=\"font-weight: bold\">[</span>\n",
       "<span style=\"color: #7fbf7f; text-decoration-color: #7fbf7f\">│   </span><span style=\"color: #008000; text-decoration-color: #008000\">'Ant-v4__999__20240606-232800_charts_episodic_return_env-0.csv'</span>,\n",
       "<span style=\"color: #7fbf7f; text-decoration-color: #7fbf7f\">│   </span><span style=\"color: #008000; text-decoration-color: #008000\">'Ant-v4__999__20240606-232800_charts_episodic_return_env-1.csv'</span>,\n",
       "<span style=\"color: #7fbf7f; text-decoration-color: #7fbf7f\">│   </span><span style=\"color: #008000; text-decoration-color: #008000\">'Ant-v4__999__20240606-232800_charts_episodic_return_env-2.csv'</span>,\n",
       "<span style=\"color: #7fbf7f; text-decoration-color: #7fbf7f\">│   </span><span style=\"color: #008000; text-decoration-color: #008000\">'Ant-v4__999__20240606-232800_charts_episodic_return_env-3.csv'</span>\n",
       "<span style=\"font-weight: bold\">]</span>\n",
       "</pre>\n"
      ],
      "text/plain": [
       "\u001b[1m[\u001b[0m\n",
       "\u001b[2;32m│   \u001b[0m\u001b[32m'Ant-v4__999__20240606-232800_charts_episodic_return_env-0.csv'\u001b[0m,\n",
       "\u001b[2;32m│   \u001b[0m\u001b[32m'Ant-v4__999__20240606-232800_charts_episodic_return_env-1.csv'\u001b[0m,\n",
       "\u001b[2;32m│   \u001b[0m\u001b[32m'Ant-v4__999__20240606-232800_charts_episodic_return_env-2.csv'\u001b[0m,\n",
       "\u001b[2;32m│   \u001b[0m\u001b[32m'Ant-v4__999__20240606-232800_charts_episodic_return_env-3.csv'\u001b[0m\n",
       "\u001b[1m]\u001b[0m\n"
      ]
     },
     "metadata": {},
     "output_type": "display_data"
    }
   ],
   "source": [
    "ppe([*dfs[\"4_legs_3_SA_500k_steps\"].keys()])"
   ]
  },
  {
   "cell_type": "code",
   "execution_count": 37,
   "metadata": {},
   "outputs": [],
   "source": [
    "SA3 = dfs[\"4_legs_3_SA_500k_steps\"][\"Ant-v4__999__20240606-232800_charts_episodic_return_env-0.csv\"].merge(dfs[\"4_legs_3_SA_500k_steps\"][\"Ant-v4__999__20240606-232800_charts_episodic_return_env-1.csv\"], how='outer')\n",
    "SA3 = SA3.merge(dfs[\"4_legs_3_SA_500k_steps\"][\"Ant-v4__999__20240606-232800_charts_episodic_return_env-2.csv\"], how='outer')\n",
    "SA3 = SA3.merge(dfs[\"4_legs_3_SA_500k_steps\"][\"Ant-v4__999__20240606-232800_charts_episodic_return_env-3.csv\"], how='outer')"
   ]
  },
  {
   "cell_type": "code",
   "execution_count": 38,
   "metadata": {},
   "outputs": [
    {
     "data": {
      "text/html": [
       "<div>\n",
       "<style scoped>\n",
       "    .dataframe tbody tr th:only-of-type {\n",
       "        vertical-align: middle;\n",
       "    }\n",
       "\n",
       "    .dataframe tbody tr th {\n",
       "        vertical-align: top;\n",
       "    }\n",
       "\n",
       "    .dataframe thead th {\n",
       "        text-align: right;\n",
       "    }\n",
       "</style>\n",
       "<table border=\"1\" class=\"dataframe\">\n",
       "  <thead>\n",
       "    <tr style=\"text-align: right;\">\n",
       "      <th></th>\n",
       "      <th>Wall time</th>\n",
       "      <th>Step</th>\n",
       "      <th>Value</th>\n",
       "    </tr>\n",
       "  </thead>\n",
       "  <tbody>\n",
       "    <tr>\n",
       "      <th>0</th>\n",
       "      <td>1.717706e+09</td>\n",
       "      <td>13</td>\n",
       "      <td>-11.716684</td>\n",
       "    </tr>\n",
       "    <tr>\n",
       "      <th>1</th>\n",
       "      <td>1.717706e+09</td>\n",
       "      <td>31</td>\n",
       "      <td>-13.627132</td>\n",
       "    </tr>\n",
       "    <tr>\n",
       "      <th>2</th>\n",
       "      <td>1.717706e+09</td>\n",
       "      <td>61</td>\n",
       "      <td>-13.186014</td>\n",
       "    </tr>\n",
       "    <tr>\n",
       "      <th>3</th>\n",
       "      <td>1.717706e+09</td>\n",
       "      <td>94</td>\n",
       "      <td>-15.728502</td>\n",
       "    </tr>\n",
       "    <tr>\n",
       "      <th>4</th>\n",
       "      <td>1.717706e+09</td>\n",
       "      <td>116</td>\n",
       "      <td>-18.909285</td>\n",
       "    </tr>\n",
       "    <tr>\n",
       "      <th>...</th>\n",
       "      <td>...</td>\n",
       "      <td>...</td>\n",
       "      <td>...</td>\n",
       "    </tr>\n",
       "    <tr>\n",
       "      <th>2482</th>\n",
       "      <td>1.717718e+09</td>\n",
       "      <td>499225</td>\n",
       "      <td>891.150513</td>\n",
       "    </tr>\n",
       "    <tr>\n",
       "      <th>2483</th>\n",
       "      <td>1.717718e+09</td>\n",
       "      <td>499347</td>\n",
       "      <td>5170.809570</td>\n",
       "    </tr>\n",
       "    <tr>\n",
       "      <th>2484</th>\n",
       "      <td>1.717718e+09</td>\n",
       "      <td>499383</td>\n",
       "      <td>5571.200684</td>\n",
       "    </tr>\n",
       "    <tr>\n",
       "      <th>2485</th>\n",
       "      <td>1.717718e+09</td>\n",
       "      <td>499573</td>\n",
       "      <td>861.751892</td>\n",
       "    </tr>\n",
       "    <tr>\n",
       "      <th>2486</th>\n",
       "      <td>1.717718e+09</td>\n",
       "      <td>499935</td>\n",
       "      <td>5412.615723</td>\n",
       "    </tr>\n",
       "  </tbody>\n",
       "</table>\n",
       "<p>2487 rows × 3 columns</p>\n",
       "</div>"
      ],
      "text/plain": [
       "         Wall time    Step        Value\n",
       "0     1.717706e+09      13   -11.716684\n",
       "1     1.717706e+09      31   -13.627132\n",
       "2     1.717706e+09      61   -13.186014\n",
       "3     1.717706e+09      94   -15.728502\n",
       "4     1.717706e+09     116   -18.909285\n",
       "...            ...     ...          ...\n",
       "2482  1.717718e+09  499225   891.150513\n",
       "2483  1.717718e+09  499347  5170.809570\n",
       "2484  1.717718e+09  499383  5571.200684\n",
       "2485  1.717718e+09  499573   861.751892\n",
       "2486  1.717718e+09  499935  5412.615723\n",
       "\n",
       "[2487 rows x 3 columns]"
      ]
     },
     "execution_count": 38,
     "metadata": {},
     "output_type": "execute_result"
    }
   ],
   "source": [
    "SA3"
   ]
  },
  {
   "cell_type": "code",
   "execution_count": 39,
   "metadata": {},
   "outputs": [
    {
     "data": {
      "text/html": [
       "<pre style=\"white-space:pre;overflow-x:auto;line-height:normal;font-family:Menlo,'DejaVu Sans Mono',consolas,'Courier New',monospace\"><span style=\"font-weight: bold\">[</span>\n",
       "<span style=\"color: #7fbf7f; text-decoration-color: #7fbf7f\">│   </span><span style=\"color: #008000; text-decoration-color: #008000\">'Ant-v4__999__20240612-154152_charts_episodic_return_env-0.csv'</span>,\n",
       "<span style=\"color: #7fbf7f; text-decoration-color: #7fbf7f\">│   </span><span style=\"color: #008000; text-decoration-color: #008000\">'Ant-v4__999__20240612-154152_charts_episodic_return_env-1.csv'</span>,\n",
       "<span style=\"color: #7fbf7f; text-decoration-color: #7fbf7f\">│   </span><span style=\"color: #008000; text-decoration-color: #008000\">'Ant-v4__999__20240612-154152_charts_episodic_return_env-2.csv'</span>,\n",
       "<span style=\"color: #7fbf7f; text-decoration-color: #7fbf7f\">│   </span><span style=\"color: #008000; text-decoration-color: #008000\">'Ant-v4__999__20240612-154152_charts_episodic_return_env-3.csv'</span>\n",
       "<span style=\"font-weight: bold\">]</span>\n",
       "</pre>\n"
      ],
      "text/plain": [
       "\u001b[1m[\u001b[0m\n",
       "\u001b[2;32m│   \u001b[0m\u001b[32m'Ant-v4__999__20240612-154152_charts_episodic_return_env-0.csv'\u001b[0m,\n",
       "\u001b[2;32m│   \u001b[0m\u001b[32m'Ant-v4__999__20240612-154152_charts_episodic_return_env-1.csv'\u001b[0m,\n",
       "\u001b[2;32m│   \u001b[0m\u001b[32m'Ant-v4__999__20240612-154152_charts_episodic_return_env-2.csv'\u001b[0m,\n",
       "\u001b[2;32m│   \u001b[0m\u001b[32m'Ant-v4__999__20240612-154152_charts_episodic_return_env-3.csv'\u001b[0m\n",
       "\u001b[1m]\u001b[0m\n"
      ]
     },
     "metadata": {},
     "output_type": "display_data"
    }
   ],
   "source": [
    "ppe([*dfs[\"4_legs_4_SA_500k_steps\"].keys()])"
   ]
  },
  {
   "cell_type": "code",
   "execution_count": 40,
   "metadata": {},
   "outputs": [],
   "source": [
    "SA4 = dfs[\"4_legs_4_SA_500k_steps\"][\"Ant-v4__999__20240612-154152_charts_episodic_return_env-0.csv\"].merge(dfs[\"4_legs_4_SA_500k_steps\"][\"Ant-v4__999__20240612-154152_charts_episodic_return_env-1.csv\"], how='outer')\n",
    "SA4 = SA4.merge(dfs[\"4_legs_4_SA_500k_steps\"][\"Ant-v4__999__20240612-154152_charts_episodic_return_env-2.csv\"], how='outer')\n",
    "SA4 = SA4.merge(dfs[\"4_legs_4_SA_500k_steps\"][\"Ant-v4__999__20240612-154152_charts_episodic_return_env-3.csv\"], how='outer')"
   ]
  },
  {
   "cell_type": "code",
   "execution_count": 41,
   "metadata": {},
   "outputs": [
    {
     "data": {
      "text/html": [
       "<div>\n",
       "<style scoped>\n",
       "    .dataframe tbody tr th:only-of-type {\n",
       "        vertical-align: middle;\n",
       "    }\n",
       "\n",
       "    .dataframe tbody tr th {\n",
       "        vertical-align: top;\n",
       "    }\n",
       "\n",
       "    .dataframe thead th {\n",
       "        text-align: right;\n",
       "    }\n",
       "</style>\n",
       "<table border=\"1\" class=\"dataframe\">\n",
       "  <thead>\n",
       "    <tr style=\"text-align: right;\">\n",
       "      <th></th>\n",
       "      <th>Wall time</th>\n",
       "      <th>Step</th>\n",
       "      <th>Value</th>\n",
       "    </tr>\n",
       "  </thead>\n",
       "  <tbody>\n",
       "    <tr>\n",
       "      <th>0</th>\n",
       "      <td>1.718196e+09</td>\n",
       "      <td>13</td>\n",
       "      <td>-11.716684</td>\n",
       "    </tr>\n",
       "    <tr>\n",
       "      <th>1</th>\n",
       "      <td>1.718196e+09</td>\n",
       "      <td>31</td>\n",
       "      <td>-13.627132</td>\n",
       "    </tr>\n",
       "    <tr>\n",
       "      <th>2</th>\n",
       "      <td>1.718196e+09</td>\n",
       "      <td>61</td>\n",
       "      <td>-13.186014</td>\n",
       "    </tr>\n",
       "    <tr>\n",
       "      <th>3</th>\n",
       "      <td>1.718196e+09</td>\n",
       "      <td>94</td>\n",
       "      <td>-15.728502</td>\n",
       "    </tr>\n",
       "    <tr>\n",
       "      <th>4</th>\n",
       "      <td>1.718196e+09</td>\n",
       "      <td>116</td>\n",
       "      <td>-18.909285</td>\n",
       "    </tr>\n",
       "    <tr>\n",
       "      <th>...</th>\n",
       "      <td>...</td>\n",
       "      <td>...</td>\n",
       "      <td>...</td>\n",
       "    </tr>\n",
       "    <tr>\n",
       "      <th>2575</th>\n",
       "      <td>1.718210e+09</td>\n",
       "      <td>499066</td>\n",
       "      <td>5355.530273</td>\n",
       "    </tr>\n",
       "    <tr>\n",
       "      <th>2576</th>\n",
       "      <td>1.718210e+09</td>\n",
       "      <td>499193</td>\n",
       "      <td>5236.681152</td>\n",
       "    </tr>\n",
       "    <tr>\n",
       "      <th>2577</th>\n",
       "      <td>1.718210e+09</td>\n",
       "      <td>499346</td>\n",
       "      <td>5164.538086</td>\n",
       "    </tr>\n",
       "    <tr>\n",
       "      <th>2578</th>\n",
       "      <td>1.718210e+09</td>\n",
       "      <td>499597</td>\n",
       "      <td>2166.253418</td>\n",
       "    </tr>\n",
       "    <tr>\n",
       "      <th>2579</th>\n",
       "      <td>1.718210e+09</td>\n",
       "      <td>499961</td>\n",
       "      <td>5575.914062</td>\n",
       "    </tr>\n",
       "  </tbody>\n",
       "</table>\n",
       "<p>2580 rows × 3 columns</p>\n",
       "</div>"
      ],
      "text/plain": [
       "         Wall time    Step        Value\n",
       "0     1.718196e+09      13   -11.716684\n",
       "1     1.718196e+09      31   -13.627132\n",
       "2     1.718196e+09      61   -13.186014\n",
       "3     1.718196e+09      94   -15.728502\n",
       "4     1.718196e+09     116   -18.909285\n",
       "...            ...     ...          ...\n",
       "2575  1.718210e+09  499066  5355.530273\n",
       "2576  1.718210e+09  499193  5236.681152\n",
       "2577  1.718210e+09  499346  5164.538086\n",
       "2578  1.718210e+09  499597  2166.253418\n",
       "2579  1.718210e+09  499961  5575.914062\n",
       "\n",
       "[2580 rows x 3 columns]"
      ]
     },
     "execution_count": 41,
     "metadata": {},
     "output_type": "execute_result"
    }
   ],
   "source": [
    "SA4"
   ]
  },
  {
   "cell_type": "code",
   "execution_count": 42,
   "metadata": {},
   "outputs": [
    {
     "data": {
      "image/png": "[encoded data removed]",
      "text/plain": [
       "<Figure size 640x480 with 1 Axes>"
      ]
     },
     "metadata": {},
     "output_type": "display_data"
    }
   ],
   "source": [
    "plt.plot(SA0['Step'], SA0['Value'], color='purple')\n",
    "plt.plot(SA1['Step'], SA1['Value'], color='blue')\n",
    "plt.plot(SA2['Step'], SA2['Value'], color='green')\n",
    "plt.plot(SA3['Step'], SA3['Value'], color='orange')\n",
    "plt.plot(SA3['Step'], SA3['Value'], color='r')\n",
    "plt.show()"
   ]
  },
  {
   "cell_type": "code",
   "execution_count": 44,
   "metadata": {},
   "outputs": [
    {
     "data": {
      "image/png": "[encoded data removed]",
      "text/plain": [
       "<Figure size 640x480 with 1 Axes>"
      ]
     },
     "metadata": {},
     "output_type": "display_data"
    }
   ],
   "source": [
    "fig, axs = plt.subplots()\n",
    "axs: Axes\n",
    "for idx, report in enumerate((SA0, SA1, SA2, SA3, SA4)):\n",
    "    axs.plot(report[\"Step\"], report[\"Value\"].rolling(window=30).mean(), label=f\"{idx} SA\")\n",
    "axs.legend()\n",
    "axs.set_xlabel(\"steps\")\n",
    "axs.set_ylabel(\"reward\")\n",
    "axs.grid()\n",
    "plt.show()"
   ]
  },
  {
   "cell_type": "code",
   "execution_count": null,
   "metadata": {},
   "outputs": [],
   "source": []
  }
 ],
 "metadata": {
  "kernelspec": {
   "display_name": "Python 3",
   "language": "python",
   "name": "python3"
  },
  "language_info": {
   "codemirror_mode": {
    "name": "ipython",
    "version": 3
   },
   "file_extension": ".py",
   "mimetype": "text/x-python",
   "name": "python",
   "nbconvert_exporter": "python",
   "pygments_lexer": "ipython3",
   "version": "3.11.9"
  }
 },
 "nbformat": 4,
 "nbformat_minor": 2
}
