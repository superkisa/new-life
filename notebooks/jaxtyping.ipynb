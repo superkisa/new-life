{
 "cells": [
  {
   "cell_type": "code",
   "execution_count": 1,
   "metadata": {},
   "outputs": [],
   "source": [
    "import jaxtyping\n",
    "\n",
    "# %load_ext jaxtyping\n",
    "# %jaxtyping.typechecker beartype.beartype  # or any other runtime type checker\n",
    "\n",
    "%load_ext autoreload\n",
    "%autoreload 2"
   ]
  },
  {
   "cell_type": "code",
   "execution_count": 2,
   "metadata": {},
   "outputs": [],
   "source": [
    "import torch as pt\n",
    "from beartype import beartype as typechecker\n",
    "from jaxtyping import Float, jaxtyped\n"
   ]
  },
  {
   "cell_type": "code",
   "execution_count": 3,
   "metadata": {},
   "outputs": [
    {
     "data": {
      "text/plain": [
       "tensor([[0.4669, 0.3592, 0.2141],\n",
       "        [0.0286, 0.0088, 0.9025]])"
      ]
     },
     "execution_count": 3,
     "metadata": {},
     "output_type": "execute_result"
    }
   ],
   "source": [
    "pt.rand((2,3))"
   ]
  },
  {
   "cell_type": "code",
   "execution_count": 4,
   "metadata": {},
   "outputs": [
    {
     "data": {
      "text/plain": [
       "tensor([[0.4194, 0.4753],\n",
       "        [0.6482, 0.0434],\n",
       "        [0.6157, 0.6711]])"
      ]
     },
     "execution_count": 4,
     "metadata": {},
     "output_type": "execute_result"
    }
   ],
   "source": [
    "pt.rand((3,2))"
   ]
  },
  {
   "cell_type": "code",
   "execution_count": 5,
   "metadata": {},
   "outputs": [
    {
     "data": {
      "text/plain": [
       "tensor([[0.9473, 1.6532],\n",
       "        [0.2916, 0.5237]])"
      ]
     },
     "execution_count": 5,
     "metadata": {},
     "output_type": "execute_result"
    }
   ],
   "source": [
    "pt.mm(pt.rand((2, 3)), pt.rand((3, 2)))"
   ]
  },
  {
   "cell_type": "code",
   "execution_count": 6,
   "metadata": {},
   "outputs": [],
   "source": [
    "# @jaxtyped(typechecker=typechecker)\n",
    "def matrix_multiply(\n",
    "    x: Float[pt.Tensor, \"dim1 dim2\"], y: Float[pt.Tensor, \"dim2 dim3\"]\n",
    ") -> Float[pt.Tensor, \"dim1 dim3\"]:\n",
    "    return pt.mm(x, y)\n"
   ]
  },
  {
   "cell_type": "code",
   "execution_count": 7,
   "metadata": {},
   "outputs": [
    {
     "data": {
      "text/plain": [
       "tensor([[1.2352, 0.1687, 0.9955, 0.9370, 0.8730],\n",
       "        [0.8218, 0.0588, 1.2147, 0.6557, 0.9228]])"
      ]
     },
     "execution_count": 7,
     "metadata": {},
     "output_type": "execute_result"
    }
   ],
   "source": [
    "matrix_multiply(pt.rand((2, 3)), pt.rand((3, 5)))"
   ]
  },
  {
   "cell_type": "code",
   "execution_count": 8,
   "metadata": {},
   "outputs": [
    {
     "data": {
      "text/plain": [
       "tensor([0.4804, 2.2841, 1.4308, 1.2004, 1.4889])"
      ]
     },
     "execution_count": 8,
     "metadata": {},
     "output_type": "execute_result"
    }
   ],
   "source": [
    "pt.sum(\n",
    "    pt.tensor(\n",
    "        [\n",
    "            [0.1325, 0.8079, 0.0793, 0.0363, 0.5968],\n",
    "            [0.0700, 0.4912, 0.8276, 0.7337, 0.3603],\n",
    "            [0.2779, 0.9850, 0.5239, 0.4304, 0.5318],\n",
    "        ]\n",
    "    ),\n",
    "    dim=0,\n",
    ")\n"
   ]
  }
 ],
 "metadata": {
  "kernelspec": {
   "display_name": "Python 3",
   "language": "python",
   "name": "python3"
  },
  "language_info": {
   "codemirror_mode": {
    "name": "ipython",
    "version": 3
   },
   "file_extension": ".py",
   "mimetype": "text/x-python",
   "name": "python",
   "nbconvert_exporter": "python",
   "pygments_lexer": "ipython3",
   "version": "3.11.8"
  }
 },
 "nbformat": 4,
 "nbformat_minor": 2
}
