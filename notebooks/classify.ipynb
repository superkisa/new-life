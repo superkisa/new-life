{
 "cells": [
  {
   "cell_type": "code",
   "execution_count": 1,
   "metadata": {},
   "outputs": [],
   "source": [
    "%load_ext autoreload\n",
    "%autoreload 0"
   ]
  },
  {
   "cell_type": "code",
   "execution_count": 2,
   "metadata": {},
   "outputs": [],
   "source": [
    "from functools import partial\n",
    "\n",
    "import gymnasium as gym\n",
    "import numpy as np\n",
    "import seaborn as sns\n",
    "import torch as t\n",
    "from gymnasium.envs.registration import EnvSpec\n",
    "from matplotlib import pyplot as plt\n",
    "from rich.pretty import pprint as pp\n",
    "from tqdm import tqdm\n",
    "\n",
    "from bert_sac.models import Actor, SoftQNetwork\n",
    "from bert_sac.sac_trainer import AntSAC, AntSACConfig\n",
    "from bert_sac.utils import make_env\n",
    "\n",
    "ppe = partial(pp, expand_all=True)\n",
    "\n",
    "SEED = 999\n",
    "\n",
    "device = t.device(\"cuda:0\")\n",
    "t.set_default_device(device)"
   ]
  },
  {
   "cell_type": "code",
   "execution_count": 3,
   "metadata": {},
   "outputs": [
    {
     "data": {
      "text/html": [
       "<pre style=\"white-space:pre;overflow-x:auto;line-height:normal;font-family:Menlo,'DejaVu Sans Mono',consolas,'Courier New',monospace\"><span style=\"font-weight: bold\">{</span><span style=\"color: #008000; text-decoration-color: #008000\">'ATT_MASK.shape'</span>: <span style=\"color: #800080; text-decoration-color: #800080; font-weight: bold\">torch.Size</span><span style=\"font-weight: bold\">([</span><span style=\"color: #008080; text-decoration-color: #008080; font-weight: bold\">27</span>, <span style=\"color: #008080; text-decoration-color: #008080; font-weight: bold\">27</span><span style=\"font-weight: bold\">])}</span>\n",
       "</pre>\n"
      ],
      "text/plain": [
       "\u001b[1m{\u001b[0m\u001b[32m'ATT_MASK.shape'\u001b[0m: \u001b[1;35mtorch.Size\u001b[0m\u001b[1m(\u001b[0m\u001b[1m[\u001b[0m\u001b[1;36m27\u001b[0m, \u001b[1;36m27\u001b[0m\u001b[1m]\u001b[0m\u001b[1m)\u001b[0m\u001b[1m}\u001b[0m\n"
      ]
     },
     "metadata": {},
     "output_type": "display_data"
    },
    {
     "data": {
      "image/png": "[encoded data removed]",
      "text/plain": [
       "<Figure size 640x480 with 1 Axes>"
      ]
     },
     "metadata": {},
     "output_type": "display_data"
    }
   ],
   "source": [
    "NUM_STRUCT_ELEMENTS = 9\n",
    "\n",
    "ATT_MASK = t.tensor(\n",
    "    [\n",
    "        [1, 1, 1, 1, 1, 1, 0, 1, 0, 1, 0, 1, 0, 1, 1, 1, 1, 1, 1, 1, 0, 1, 0, 1, 0, 1, 0],\n",
    "        [1, 1, 1, 1, 1, 1, 0, 1, 0, 1, 0, 1, 0, 1, 1, 1, 1, 1, 1, 1, 0, 1, 0, 1, 0, 1, 0],\n",
    "        [1, 1, 1, 1, 1, 1, 0, 1, 0, 1, 0, 1, 0, 1, 1, 1, 1, 1, 1, 1, 0, 1, 0, 1, 0, 1, 0],\n",
    "        [1, 1, 1, 1, 1, 1, 0, 1, 0, 1, 0, 1, 0, 1, 1, 1, 1, 1, 1, 1, 0, 1, 0, 1, 0, 1, 0],\n",
    "        [1, 1, 1, 1, 1, 1, 0, 1, 0, 1, 0, 1, 0, 1, 1, 1, 1, 1, 1, 1, 0, 1, 0, 1, 0, 1, 0],\n",
    "        [1, 1, 1, 1, 1, 1, 1, 0, 0, 0, 0, 0, 0, 1, 1, 1, 1, 1, 1, 1, 1, 0, 0, 0, 0, 0, 0],\n",
    "        [1, 1, 1, 1, 1, 0, 0, 1, 1, 0, 0, 0, 0, 1, 1, 1, 1, 1, 1, 0, 0, 1, 1, 0, 0, 0, 0],\n",
    "        [1, 1, 1, 1, 1, 0, 0, 0, 0, 1, 1, 0, 0, 1, 1, 1, 1, 1, 1, 0, 0, 0, 0, 1, 1, 0, 0],\n",
    "        [1, 1, 1, 1, 1, 0, 0, 0, 0, 0, 0, 1, 1, 1, 1, 1, 1, 1, 1, 0, 0, 0, 0, 0, 0, 1, 1],\n",
    "        [0, 0, 0, 0, 0, 1, 1, 0, 0, 0, 0, 0, 0, 0, 0, 0, 0, 0, 0, 1, 1, 0, 0, 0, 0, 0, 0],\n",
    "        [0, 0, 0, 0, 0, 0, 0, 1, 1, 0, 0, 0, 0, 0, 0, 0, 0, 0, 0, 0, 0, 1, 1, 0, 0, 0, 0],\n",
    "        [0, 0, 0, 0, 0, 0, 0, 0, 0, 1, 1, 0, 0, 0, 0, 0, 0, 0, 0, 0, 0, 0, 0, 1, 1, 0, 0],\n",
    "        [0, 0, 0, 0, 0, 0, 0, 0, 0, 0, 0, 1, 1, 0, 0, 0, 0, 0, 0, 0, 0, 0, 0, 0, 0, 1, 1],\n",
    "        [1, 1, 1, 1, 1, 1, 0, 1, 0, 1, 0, 1, 0, 1, 1, 1, 1, 1, 1, 1, 0, 1, 0, 1, 0, 1, 0],\n",
    "        [1, 1, 1, 1, 1, 1, 0, 1, 0, 1, 0, 1, 0, 1, 1, 1, 1, 1, 1, 1, 0, 1, 0, 1, 0, 1, 0],\n",
    "        [1, 1, 1, 1, 1, 1, 0, 1, 0, 1, 0, 1, 0, 1, 1, 1, 1, 1, 1, 1, 0, 1, 0, 1, 0, 1, 0],\n",
    "        [1, 1, 1, 1, 1, 1, 0, 1, 0, 1, 0, 1, 0, 1, 1, 1, 1, 1, 1, 1, 0, 1, 0, 1, 0, 1, 0],\n",
    "        [1, 1, 1, 1, 1, 1, 0, 1, 0, 1, 0, 1, 0, 1, 1, 1, 1, 1, 1, 1, 0, 1, 0, 1, 0, 1, 0],\n",
    "        [1, 1, 1, 1, 1, 1, 0, 1, 0, 1, 0, 1, 0, 1, 1, 1, 1, 1, 1, 1, 0, 1, 0, 1, 0, 1, 0],\n",
    "        [1, 1, 1, 1, 1, 1, 1, 0, 0, 0, 0, 0, 0, 1, 1, 1, 1, 1, 1, 1, 1, 0, 0, 0, 0, 0, 0],\n",
    "        [1, 1, 1, 1, 1, 0, 0, 1, 1, 0, 0, 0, 0, 1, 1, 1, 1, 1, 1, 0, 0, 1, 1, 0, 0, 0, 0],\n",
    "        [1, 1, 1, 1, 1, 0, 0, 0, 0, 1, 1, 0, 0, 1, 1, 1, 1, 1, 1, 0, 0, 0, 0, 1, 1, 0, 0],\n",
    "        [1, 1, 1, 1, 1, 0, 0, 0, 0, 0, 0, 1, 1, 1, 1, 1, 1, 1, 1, 0, 0, 0, 0, 0, 0, 1, 1],\n",
    "        [0, 0, 0, 0, 0, 1, 1, 0, 0, 0, 0, 0, 0, 0, 0, 0, 0, 0, 0, 1, 1, 0, 0, 0, 0, 0, 0],\n",
    "        [0, 0, 0, 0, 0, 0, 0, 1, 1, 0, 0, 0, 0, 0, 0, 0, 0, 0, 0, 0, 0, 1, 1, 0, 0, 0, 0],\n",
    "        [0, 0, 0, 0, 0, 0, 0, 0, 0, 1, 1, 0, 0, 0, 0, 0, 0, 0, 0, 0, 0, 0, 0, 1, 1, 0, 0],\n",
    "        [0, 0, 0, 0, 0, 0, 0, 0, 0, 0, 0, 1, 1, 0, 0, 0, 0, 0, 0, 0, 0, 0, 0, 0, 0, 1, 1],\n",
    "    ]\n",
    ")\n",
    "\n",
    "pp({\"ATT_MASK.shape\": ATT_MASK.shape})\n",
    "\n",
    "sns.heatmap(ATT_MASK.cpu(), square=True, cbar=False, annot=True)\n",
    "plt.show()"
   ]
  },
  {
   "cell_type": "code",
   "execution_count": 4,
   "metadata": {},
   "outputs": [],
   "source": [
    "envs = gym.vector.AsyncVectorEnv([make_env(\"Ant-v4\", seed=SEED) for _ in range(4)])"
   ]
  },
  {
   "cell_type": "code",
   "execution_count": 5,
   "metadata": {},
   "outputs": [
    {
     "data": {
      "text/plain": [
       "(4, 27)"
      ]
     },
     "execution_count": 5,
     "metadata": {},
     "output_type": "execute_result"
    }
   ],
   "source": [
    "envs.reset()[0].shape"
   ]
  },
  {
   "cell_type": "code",
   "execution_count": 6,
   "metadata": {},
   "outputs": [],
   "source": [
    "sac_config = AntSACConfig(n_legs=4, seed=SEED, checkpoint_frequency=20_000)"
   ]
  },
  {
   "cell_type": "code",
   "execution_count": 7,
   "metadata": {},
   "outputs": [
    {
     "data": {
      "text/plain": [
       "0"
      ]
     },
     "execution_count": 7,
     "metadata": {},
     "output_type": "execute_result"
    }
   ],
   "source": [
    "sac = AntSAC(\n",
    "    actor_net=Actor,\n",
    "    critic_net=SoftQNetwork,\n",
    "    envs=envs,\n",
    "    num_obs=27,\n",
    "    num_act=8,\n",
    "    device=device,\n",
    "    attention_mask=ATT_MASK,\n",
    "    config=sac_config,\n",
    "    artifact_path=\"./artifacts\",\n",
    "    num_att_layers=4,\n",
    ")\n",
    "sac.global_step"
   ]
  },
  {
   "cell_type": "code",
   "execution_count": 8,
   "metadata": {},
   "outputs": [],
   "source": [
    "# sac.load_from_checkpoint(\"artifacts/checkpoints/Ant-v4__999__20240607-104136.tar\")"
   ]
  },
  {
   "cell_type": "code",
   "execution_count": 9,
   "metadata": {},
   "outputs": [
    {
     "data": {
      "text/plain": [
       "AntSAC(\n",
       "  (actor): Actor(\n",
       "    (preprocess_layer): Sequential(\n",
       "      (0): AttentionLayer(\n",
       "        (softmax): Softmax(dim=1)\n",
       "      )\n",
       "      (1): AttentionLayer(\n",
       "        (softmax): Softmax(dim=1)\n",
       "      )\n",
       "      (2): AttentionLayer(\n",
       "        (softmax): Softmax(dim=1)\n",
       "      )\n",
       "      (3): AttentionLayer(\n",
       "        (softmax): Softmax(dim=1)\n",
       "      )\n",
       "    )\n",
       "    (fc): Sequential(\n",
       "      (0): Linear(in_features=27, out_features=256, bias=True)\n",
       "      (1): ReLU()\n",
       "      (2): Linear(in_features=256, out_features=256, bias=True)\n",
       "      (3): ReLU()\n",
       "    )\n",
       "    (fc_mean): Linear(in_features=256, out_features=8, bias=True)\n",
       "    (fc_logstd): Linear(in_features=256, out_features=8, bias=True)\n",
       "  )\n",
       "  (qf1): SoftQNetwork(\n",
       "    (preprocess_layer): Sequential(\n",
       "      (0): AttentionLayer(\n",
       "        (softmax): Softmax(dim=1)\n",
       "      )\n",
       "      (1): AttentionLayer(\n",
       "        (softmax): Softmax(dim=1)\n",
       "      )\n",
       "      (2): AttentionLayer(\n",
       "        (softmax): Softmax(dim=1)\n",
       "      )\n",
       "      (3): AttentionLayer(\n",
       "        (softmax): Softmax(dim=1)\n",
       "      )\n",
       "    )\n",
       "    (fc): Sequential(\n",
       "      (0): Linear(in_features=35, out_features=256, bias=True)\n",
       "      (1): ReLU()\n",
       "      (2): Linear(in_features=256, out_features=256, bias=True)\n",
       "      (3): ReLU()\n",
       "      (4): Linear(in_features=256, out_features=1, bias=True)\n",
       "    )\n",
       "  )\n",
       "  (qf2): SoftQNetwork(\n",
       "    (preprocess_layer): Sequential(\n",
       "      (0): AttentionLayer(\n",
       "        (softmax): Softmax(dim=1)\n",
       "      )\n",
       "      (1): AttentionLayer(\n",
       "        (softmax): Softmax(dim=1)\n",
       "      )\n",
       "      (2): AttentionLayer(\n",
       "        (softmax): Softmax(dim=1)\n",
       "      )\n",
       "      (3): AttentionLayer(\n",
       "        (softmax): Softmax(dim=1)\n",
       "      )\n",
       "    )\n",
       "    (fc): Sequential(\n",
       "      (0): Linear(in_features=35, out_features=256, bias=True)\n",
       "      (1): ReLU()\n",
       "      (2): Linear(in_features=256, out_features=256, bias=True)\n",
       "      (3): ReLU()\n",
       "      (4): Linear(in_features=256, out_features=1, bias=True)\n",
       "    )\n",
       "  )\n",
       "  (qf1_target): SoftQNetwork(\n",
       "    (preprocess_layer): Sequential(\n",
       "      (0): AttentionLayer(\n",
       "        (softmax): Softmax(dim=1)\n",
       "      )\n",
       "      (1): AttentionLayer(\n",
       "        (softmax): Softmax(dim=1)\n",
       "      )\n",
       "      (2): AttentionLayer(\n",
       "        (softmax): Softmax(dim=1)\n",
       "      )\n",
       "      (3): AttentionLayer(\n",
       "        (softmax): Softmax(dim=1)\n",
       "      )\n",
       "    )\n",
       "    (fc): Sequential(\n",
       "      (0): Linear(in_features=35, out_features=256, bias=True)\n",
       "      (1): ReLU()\n",
       "      (2): Linear(in_features=256, out_features=256, bias=True)\n",
       "      (3): ReLU()\n",
       "      (4): Linear(in_features=256, out_features=1, bias=True)\n",
       "    )\n",
       "  )\n",
       "  (qf2_target): SoftQNetwork(\n",
       "    (preprocess_layer): Sequential(\n",
       "      (0): AttentionLayer(\n",
       "        (softmax): Softmax(dim=1)\n",
       "      )\n",
       "      (1): AttentionLayer(\n",
       "        (softmax): Softmax(dim=1)\n",
       "      )\n",
       "      (2): AttentionLayer(\n",
       "        (softmax): Softmax(dim=1)\n",
       "      )\n",
       "      (3): AttentionLayer(\n",
       "        (softmax): Softmax(dim=1)\n",
       "      )\n",
       "    )\n",
       "    (fc): Sequential(\n",
       "      (0): Linear(in_features=35, out_features=256, bias=True)\n",
       "      (1): ReLU()\n",
       "      (2): Linear(in_features=256, out_features=256, bias=True)\n",
       "      (3): ReLU()\n",
       "      (4): Linear(in_features=256, out_features=1, bias=True)\n",
       "    )\n",
       "  )\n",
       ")"
      ]
     },
     "execution_count": 9,
     "metadata": {},
     "output_type": "execute_result"
    }
   ],
   "source": [
    "sac"
   ]
  },
  {
   "cell_type": "code",
   "execution_count": 10,
   "metadata": {},
   "outputs": [
    {
     "name": "stderr",
     "output_type": "stream",
     "text": [
      "  0%|          | 0/500000 [00:00<?, ?it/s]"
     ]
    },
    {
     "name": "stderr",
     "output_type": "stream",
     "text": [
      "100%|██████████| 500000/500000 [3:44:25<00:00, 37.13it/s]  \n"
     ]
    }
   ],
   "source": [
    "import warnings\n",
    "\n",
    "warnings.filterwarnings(\"ignore\")\n",
    "\n",
    "sac.train(500_000)"
   ]
  },
  {
   "cell_type": "code",
   "execution_count": 12,
   "metadata": {},
   "outputs": [],
   "source": [
    "# sac.save_checkpoint(sac.global_step)"
   ]
  },
  {
   "cell_type": "code",
   "execution_count": 13,
   "metadata": {},
   "outputs": [
    {
     "data": {
      "text/plain": [
       "<RecordVideo<TimeLimit<OrderEnforcing<PassiveEnvChecker<AntEnv<Ant-v4>>>>>>"
      ]
     },
     "execution_count": 13,
     "metadata": {},
     "output_type": "execute_result"
    }
   ],
   "source": [
    "obs_env = gym.make(\"Ant-v4\", render_mode=\"rgb_array\")\n",
    "obs_env = gym.wrappers.RecordVideo(\n",
    "    obs_env,\n",
    "    video_folder=\"artifacts/recordings\",\n",
    "    episode_trigger=lambda t: t % 1 == 0\n",
    ")\n",
    "obs_env"
   ]
  },
  {
   "cell_type": "code",
   "execution_count": 14,
   "metadata": {},
   "outputs": [
    {
     "data": {
      "text/plain": [
       "AntSAC(\n",
       "  (actor): Actor(\n",
       "    (preprocess_layer): Sequential(\n",
       "      (0): AttentionLayer(\n",
       "        (softmax): Softmax(dim=1)\n",
       "      )\n",
       "      (1): AttentionLayer(\n",
       "        (softmax): Softmax(dim=1)\n",
       "      )\n",
       "      (2): AttentionLayer(\n",
       "        (softmax): Softmax(dim=1)\n",
       "      )\n",
       "      (3): AttentionLayer(\n",
       "        (softmax): Softmax(dim=1)\n",
       "      )\n",
       "    )\n",
       "    (fc): Sequential(\n",
       "      (0): Linear(in_features=27, out_features=256, bias=True)\n",
       "      (1): ReLU()\n",
       "      (2): Linear(in_features=256, out_features=256, bias=True)\n",
       "      (3): ReLU()\n",
       "    )\n",
       "    (fc_mean): Linear(in_features=256, out_features=8, bias=True)\n",
       "    (fc_logstd): Linear(in_features=256, out_features=8, bias=True)\n",
       "  )\n",
       "  (qf1): SoftQNetwork(\n",
       "    (preprocess_layer): Sequential(\n",
       "      (0): AttentionLayer(\n",
       "        (softmax): Softmax(dim=1)\n",
       "      )\n",
       "      (1): AttentionLayer(\n",
       "        (softmax): Softmax(dim=1)\n",
       "      )\n",
       "      (2): AttentionLayer(\n",
       "        (softmax): Softmax(dim=1)\n",
       "      )\n",
       "      (3): AttentionLayer(\n",
       "        (softmax): Softmax(dim=1)\n",
       "      )\n",
       "    )\n",
       "    (fc): Sequential(\n",
       "      (0): Linear(in_features=35, out_features=256, bias=True)\n",
       "      (1): ReLU()\n",
       "      (2): Linear(in_features=256, out_features=256, bias=True)\n",
       "      (3): ReLU()\n",
       "      (4): Linear(in_features=256, out_features=1, bias=True)\n",
       "    )\n",
       "  )\n",
       "  (qf2): SoftQNetwork(\n",
       "    (preprocess_layer): Sequential(\n",
       "      (0): AttentionLayer(\n",
       "        (softmax): Softmax(dim=1)\n",
       "      )\n",
       "      (1): AttentionLayer(\n",
       "        (softmax): Softmax(dim=1)\n",
       "      )\n",
       "      (2): AttentionLayer(\n",
       "        (softmax): Softmax(dim=1)\n",
       "      )\n",
       "      (3): AttentionLayer(\n",
       "        (softmax): Softmax(dim=1)\n",
       "      )\n",
       "    )\n",
       "    (fc): Sequential(\n",
       "      (0): Linear(in_features=35, out_features=256, bias=True)\n",
       "      (1): ReLU()\n",
       "      (2): Linear(in_features=256, out_features=256, bias=True)\n",
       "      (3): ReLU()\n",
       "      (4): Linear(in_features=256, out_features=1, bias=True)\n",
       "    )\n",
       "  )\n",
       "  (qf1_target): SoftQNetwork(\n",
       "    (preprocess_layer): Sequential(\n",
       "      (0): AttentionLayer(\n",
       "        (softmax): Softmax(dim=1)\n",
       "      )\n",
       "      (1): AttentionLayer(\n",
       "        (softmax): Softmax(dim=1)\n",
       "      )\n",
       "      (2): AttentionLayer(\n",
       "        (softmax): Softmax(dim=1)\n",
       "      )\n",
       "      (3): AttentionLayer(\n",
       "        (softmax): Softmax(dim=1)\n",
       "      )\n",
       "    )\n",
       "    (fc): Sequential(\n",
       "      (0): Linear(in_features=35, out_features=256, bias=True)\n",
       "      (1): ReLU()\n",
       "      (2): Linear(in_features=256, out_features=256, bias=True)\n",
       "      (3): ReLU()\n",
       "      (4): Linear(in_features=256, out_features=1, bias=True)\n",
       "    )\n",
       "  )\n",
       "  (qf2_target): SoftQNetwork(\n",
       "    (preprocess_layer): Sequential(\n",
       "      (0): AttentionLayer(\n",
       "        (softmax): Softmax(dim=1)\n",
       "      )\n",
       "      (1): AttentionLayer(\n",
       "        (softmax): Softmax(dim=1)\n",
       "      )\n",
       "      (2): AttentionLayer(\n",
       "        (softmax): Softmax(dim=1)\n",
       "      )\n",
       "      (3): AttentionLayer(\n",
       "        (softmax): Softmax(dim=1)\n",
       "      )\n",
       "    )\n",
       "    (fc): Sequential(\n",
       "      (0): Linear(in_features=35, out_features=256, bias=True)\n",
       "      (1): ReLU()\n",
       "      (2): Linear(in_features=256, out_features=256, bias=True)\n",
       "      (3): ReLU()\n",
       "      (4): Linear(in_features=256, out_features=1, bias=True)\n",
       "    )\n",
       "  )\n",
       ")"
      ]
     },
     "execution_count": 14,
     "metadata": {},
     "output_type": "execute_result"
    }
   ],
   "source": [
    "sac"
   ]
  },
  {
   "cell_type": "code",
   "execution_count": 15,
   "metadata": {},
   "outputs": [
    {
     "name": "stderr",
     "output_type": "stream",
     "text": [
      " 20%|█▉        | 985/5000 [00:05<00:23, 171.22it/s]"
     ]
    },
    {
     "name": "stdout",
     "output_type": "stream",
     "text": [
      "Moviepy - Building video c:\\Users\\COCUTERSASHA\\Desktop\\ohMy\\new_life\\artifacts\\recordings\\rl-video-episode-0.mp4.\n",
      "Moviepy - Writing video c:\\Users\\COCUTERSASHA\\Desktop\\ohMy\\new_life\\artifacts\\recordings\\rl-video-episode-0.mp4\n",
      "\n"
     ]
    },
    {
     "name": "stderr",
     "output_type": "stream",
     "text": [
      " 20%|██        | 1021/5000 [00:10<04:43, 14.05it/s]"
     ]
    },
    {
     "name": "stdout",
     "output_type": "stream",
     "text": [
      "Moviepy - Done !\n",
      "Moviepy - video ready c:\\Users\\COCUTERSASHA\\Desktop\\ohMy\\new_life\\artifacts\\recordings\\rl-video-episode-0.mp4\n"
     ]
    },
    {
     "name": "stderr",
     "output_type": "stream",
     "text": [
      " 28%|██▊       | 1387/5000 [00:13<00:21, 164.25it/s]"
     ]
    },
    {
     "name": "stdout",
     "output_type": "stream",
     "text": [
      "Moviepy - Building video c:\\Users\\COCUTERSASHA\\Desktop\\ohMy\\new_life\\artifacts\\recordings\\rl-video-episode-1.mp4.\n",
      "Moviepy - Writing video c:\\Users\\COCUTERSASHA\\Desktop\\ohMy\\new_life\\artifacts\\recordings\\rl-video-episode-1.mp4\n",
      "\n"
     ]
    },
    {
     "name": "stderr",
     "output_type": "stream",
     "text": [
      " 28%|██▊       | 1422/5000 [00:15<01:46, 33.64it/s] "
     ]
    },
    {
     "name": "stdout",
     "output_type": "stream",
     "text": [
      "Moviepy - Done !\n",
      "Moviepy - video ready c:\\Users\\COCUTERSASHA\\Desktop\\ohMy\\new_life\\artifacts\\recordings\\rl-video-episode-1.mp4\n"
     ]
    },
    {
     "name": "stderr",
     "output_type": "stream",
     "text": [
      " 48%|████▊     | 2379/5000 [00:20<00:12, 214.48it/s]"
     ]
    },
    {
     "name": "stdout",
     "output_type": "stream",
     "text": [
      "Moviepy - Building video c:\\Users\\COCUTERSASHA\\Desktop\\ohMy\\new_life\\artifacts\\recordings\\rl-video-episode-2.mp4.\n",
      "Moviepy - Writing video c:\\Users\\COCUTERSASHA\\Desktop\\ohMy\\new_life\\artifacts\\recordings\\rl-video-episode-2.mp4\n",
      "\n"
     ]
    },
    {
     "name": "stderr",
     "output_type": "stream",
     "text": [
      " 48%|████▊     | 2425/5000 [00:25<02:04, 20.65it/s] "
     ]
    },
    {
     "name": "stdout",
     "output_type": "stream",
     "text": [
      "Moviepy - Done !\n",
      "Moviepy - video ready c:\\Users\\COCUTERSASHA\\Desktop\\ohMy\\new_life\\artifacts\\recordings\\rl-video-episode-2.mp4\n"
     ]
    },
    {
     "name": "stderr",
     "output_type": "stream",
     "text": [
      " 68%|██████▊   | 3393/5000 [00:29<00:07, 226.61it/s]"
     ]
    },
    {
     "name": "stdout",
     "output_type": "stream",
     "text": [
      "Moviepy - Building video c:\\Users\\COCUTERSASHA\\Desktop\\ohMy\\new_life\\artifacts\\recordings\\rl-video-episode-3.mp4.\n",
      "Moviepy - Writing video c:\\Users\\COCUTERSASHA\\Desktop\\ohMy\\new_life\\artifacts\\recordings\\rl-video-episode-3.mp4\n",
      "\n"
     ]
    },
    {
     "name": "stderr",
     "output_type": "stream",
     "text": [
      " 69%|██████▉   | 3438/5000 [00:34<01:14, 20.83it/s] "
     ]
    },
    {
     "name": "stdout",
     "output_type": "stream",
     "text": [
      "Moviepy - Done !\n",
      "Moviepy - video ready c:\\Users\\COCUTERSASHA\\Desktop\\ohMy\\new_life\\artifacts\\recordings\\rl-video-episode-3.mp4\n"
     ]
    },
    {
     "name": "stderr",
     "output_type": "stream",
     "text": [
      " 87%|████████▋ | 4371/5000 [00:38<00:02, 225.95it/s]"
     ]
    },
    {
     "name": "stdout",
     "output_type": "stream",
     "text": [
      "Moviepy - Building video c:\\Users\\COCUTERSASHA\\Desktop\\ohMy\\new_life\\artifacts\\recordings\\rl-video-episode-4.mp4.\n",
      "Moviepy - Writing video c:\\Users\\COCUTERSASHA\\Desktop\\ohMy\\new_life\\artifacts\\recordings\\rl-video-episode-4.mp4\n",
      "\n"
     ]
    },
    {
     "name": "stderr",
     "output_type": "stream",
     "text": [
      " 89%|████████▉ | 4444/5000 [00:43<00:18, 30.03it/s] "
     ]
    },
    {
     "name": "stdout",
     "output_type": "stream",
     "text": [
      "Moviepy - Done !\n",
      "Moviepy - video ready c:\\Users\\COCUTERSASHA\\Desktop\\ohMy\\new_life\\artifacts\\recordings\\rl-video-episode-4.mp4\n"
     ]
    },
    {
     "name": "stderr",
     "output_type": "stream",
     "text": [
      "100%|██████████| 5000/5000 [00:46<00:00, 108.42it/s]\n"
     ]
    }
   ],
   "source": [
    "obs, info = obs_env.reset()\n",
    "for _ in tqdm(range(5_000)):\n",
    "    obs = t.Tensor(obs).to(sac.device)\n",
    "    actions, _, _ = sac.actor.get_action0(obs)\n",
    "    obs, reward, terminated, truncated, info = obs_env.step(\n",
    "        actions.view(\n",
    "            8,\n",
    "        )\n",
    "        .detach()\n",
    "        .cpu()\n",
    "        .numpy()\n",
    "    )\n",
    "    if terminated or truncated:\n",
    "        obs, info = obs_env.reset()\n"
   ]
  }
 ],
 "metadata": {
  "kernelspec": {
   "display_name": "Python 3",
   "language": "python",
   "name": "python3"
  },
  "language_info": {
   "codemirror_mode": {
    "name": "ipython",
    "version": 3
   },
   "file_extension": ".py",
   "mimetype": "text/x-python",
   "name": "python",
   "nbconvert_exporter": "python",
   "pygments_lexer": "ipython3",
   "version": "3.11.9"
  }
 },
 "nbformat": 4,
 "nbformat_minor": 2
}
