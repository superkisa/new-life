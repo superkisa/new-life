{
 "cells": [
  {
   "cell_type": "code",
   "execution_count": 1,
   "metadata": {},
   "outputs": [],
   "source": [
    "import jaxtyping\n",
    "\n",
    "# %load_ext jaxtyping\n",
    "# %jaxtyping.typechecker beartype.beartype  # or any other runtime type checker\n",
    "\n",
    "%load_ext autoreload\n",
    "%autoreload 2"
   ]
  },
  {
   "cell_type": "code",
   "execution_count": 3,
   "metadata": {},
   "outputs": [],
   "source": [
    "import torch as pt\n",
    "\n",
    "from libs.my_sac.berts import CustomModel"
   ]
  },
  {
   "cell_type": "code",
   "execution_count": 4,
   "metadata": {},
   "outputs": [],
   "source": [
    "model = CustomModel()"
   ]
  },
  {
   "cell_type": "code",
   "execution_count": 5,
   "metadata": {},
   "outputs": [],
   "source": [
    "out = model(\n",
    "    input_ids=pt.tensor([[190, 1, 80, 50, 1300], [190, 1, 80, 50, 1300]]),\n",
    "    num_struct_elements=5,\n",
    "    attention_mask=pt.tensor([[1, 1, 1, 1, 1], [1, 1, 1, 1, 1]]),\n",
    "    components_mask=pt.tensor([[1, 1, 1, 0, 0], [0, 0, 0, 1, 1]]),\n",
    ")\n"
   ]
  },
  {
   "cell_type": "code",
   "execution_count": 6,
   "metadata": {},
   "outputs": [
    {
     "data": {
      "text/plain": [
       "tensor([ 0.0000e+00, -5.3644e-07,  5.3644e-07, -1.1921e-07,  1.1921e-07],\n",
       "       grad_fn=<SumBackward1>)"
      ]
     },
     "execution_count": 6,
     "metadata": {},
     "output_type": "execute_result"
    }
   ],
   "source": [
    "out"
   ]
  }
 ],
 "metadata": {
  "kernelspec": {
   "display_name": "Python 3",
   "language": "python",
   "name": "python3"
  },
  "language_info": {
   "codemirror_mode": {
    "name": "ipython",
    "version": 3
   },
   "file_extension": ".py",
   "mimetype": "text/x-python",
   "name": "python",
   "nbconvert_exporter": "python",
   "pygments_lexer": "ipython3",
   "version": "3.11.8"
  }
 },
 "nbformat": 4,
 "nbformat_minor": 2
}
